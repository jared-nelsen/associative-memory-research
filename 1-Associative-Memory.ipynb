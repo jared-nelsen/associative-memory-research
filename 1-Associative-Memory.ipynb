{
 "cells": [
  {
   "cell_type": "markdown",
   "source": [
    "# Associative Memory\n",
    "\n",
    "## Can we build a digital structure that acts like human associative memory?\n",
    "\n",
    "Associative Memory is defined as the ability to determine and store a relationship between two unrelated items. In its purest definition, the notion of 'unrelated' means that there is no instrinsic relationship between some items A and B outside of that which may have been learned about it. When one thinks of the sky, why then might one immediately associate it with the color blue. But in the strictest sense the color of the sky is only a property of our observation of the sky. The sky has many properties, including that it changes color at night, and thus we can say that the sky is not the color blue, but that the sky is 'associated' with the color blue. \n",
    "\n",
    "We can then set down a statement on Associativity:\n",
    "\n",
    "`Associativity Statement 1: Associations are functional and free. Associations between an item A and an item B are not a function of their instric properties but are the result of agency and experience.`\n",
    "\n",
    "It is interesting that we have embedded the idea of synomonous properties into our language, at least from the perspective of English. When we say the sky 'is blue' we are describing one of its properties. We don't enumerate all of its properties when we mention or think of it. The sky is blue, the sky is void, the sky is air, the sky is up, -insert all properties of the sky into this list-, would be a really redundant way to describe the sky. Another interesting facet of this line of thinking is that if we flip our perspective we can also say that the color blue is not the sky. 'Sky' is obviously not a property of the color 'blue'. But I'd like to encourage you to try an experiment. Read this list of properties and attempt to state the thing that I am describing:\n",
    "\n",
    "1. Alive\n",
    "2. Four legs\n",
    "3. Tall\n",
    "4. White\n",
    "5. Black\n",
    "6. Stripes\n",
    "\n",
    "Did you guess Zebra? If you did then you may have read my mind! But really what you did without thinking is do a reverse association between the properties of a Zebra and a your notion of one. How is it that we can so easily do this? And when you think about it it really is an amazing thing! The function of determining what something 'is' is contingent on the consolidation of its properties.\n",
    "\n",
    "We can then set down another statement about Associativity:\n",
    "\n",
    "'Associativity Statement 2: Associations can be composed by and generated from their intrinsic properties.'\n",
    "\n",
    "Another line of thinking I'd like to explore is how Associations can be chained together. Imagine an airplane in the sky and then read this series of statements:\n",
    "\n",
    "1. Airplanes fly in the sky\n",
    "2. Airplanes need fuel to fly\n",
    "3. Airplanes with fuel can land safely\n",
    "4. Airplanes in the sky without fuel cant land safely\n",
    "   \n",
    "Then we might describe an airplane:\n",
    "\n",
    "1. Airplane A is in the sky\n",
    "2. Airplane A has no fuel\n",
    "\n",
    "What would you say is the fate of airplane A? Well obviously its going to crash! It may seem obvious. How do you know this though? When I think about my answer to this question I am tempted to say that logic dictates that it be so. But my next question would be to ask why logic dictates this? What is this logic thing I am thinking of? There are volumes written about it which I will deftly gloss over to ask another question: by what function are these logical 'rules' being worked out by you?\n",
    "\n",
    "I'd like to answer this question with a simple thought experiment: Imagine you fall through a wormhole into an alternate dimension where logic operates in a completely different way than it does in ours. Imagine that then you met an exact clone of yourself who had grown up in that alternate universe. Between the two of you, who is correct about how logic works? Well, it would depend on whuch universe you were talking about, right? My point is that there is some level of associations about how things work that are being made. In fact there seem to be many layers to them.\n",
    "\n",
    "We can then set down another statement about Associativity:\n",
    "\n",
    "`Associativity Statement 3: Associationss hold utility in and of themselves. Associations can be used to compose rules about the world.`\n",
    "\n",
    "Associative Memory is obviously much more nuanced than these 3 statements can describe. However, this is a good start to talk about how giving a computer the ability to generate and use Associative Memories might be revolutionary in some way.s"
   ],
   "metadata": {}
  }
 ],
 "metadata": {
  "orig_nbformat": 4,
  "language_info": {
   "name": "python"
  }
 },
 "nbformat": 4,
 "nbformat_minor": 2
}