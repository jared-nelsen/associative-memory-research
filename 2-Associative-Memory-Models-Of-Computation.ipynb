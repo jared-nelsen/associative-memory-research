{
 "cells": [
  {
   "cell_type": "markdown",
   "source": [
    "# Associative Memory Models of Computation\n",
    "\n",
    "Although we do not often label it as such, we already have a working model of Associative Memory in modern computers.\n",
    "\n",
    "## Computer Programs as Associative Memory\n",
    "\n",
    "The primary form of Associative Memory that we have is a Computer Program. In its simplistic form a program is just a set of instructions that operate on data. When given some input X, a program transforms it through a series of steps into some other data Y. Of course there may be side effects for other results through the form of IO. However, for the purposes of this discussion I would like to formally define a program as a set of instructions that transform data in a deterministic way.\n",
    "\n",
    "Take the following program A for example:"
   ],
   "metadata": {}
  },
  {
   "cell_type": "code",
   "execution_count": 2,
   "source": [
    "def f(x):\n",
    "    return x + 1\n",
    "\n",
    "f(3)"
   ],
   "outputs": [
    {
     "output_type": "execute_result",
     "data": {
      "text/plain": [
       "4"
      ]
     },
     "metadata": {},
     "execution_count": 2
    }
   ],
   "metadata": {}
  },
  {
   "cell_type": "markdown",
   "source": [
    "This program defines a function `f` that takes some input x, increments it by 1, and returns it. Upon execting `f` with `3` as the input we see that the result of the program is `4`.\n",
    "\n",
    "We can break this program down into its prototypical parts:\n",
    "\n",
    "1. Input = 3\n",
    "2. Instructions = f(x)\n",
    "3. Output = 4\n",
    "\n",
    "Now, what if I rearranged this slightly to be...\n",
    "\n",
    "- Association between 3 and 4 is f(x)\n",
    "\n",
    "Upon first inspection this reframing seems to hold. In this model, associations are equivalent to functions applied to inputs.\n",
    "\n",
    "But it seems there are problems with such a simplistic frame of reference.\n",
    "\n",
    "Consider another program B below:"
   ],
   "metadata": {}
  },
  {
   "cell_type": "code",
   "execution_count": 3,
   "source": [
    "def f(x):\n",
    "    return x + 1 + 1 - 1\n",
    "\n",
    "f(3)"
   ],
   "outputs": [
    {
     "output_type": "execute_result",
     "data": {
      "text/plain": [
       "4"
      ]
     },
     "metadata": {},
     "execution_count": 3
    }
   ],
   "metadata": {}
  },
  {
   "cell_type": "markdown",
   "source": [
    "We can put down the same definition:\n",
    "\n",
    "- Association between 3 and 4 is f(x)\n",
    "\n",
    "But now there is a problem: `f(x)` in programs A and B are functionally different.\n",
    "\n",
    "Can we say categorically that program A's version of f(x) is exactly the same is program B's version of f(x)?\n",
    "\n",
    "Their result is the same but their operation differs so we can not say that they are the same in every way.\n",
    "\n",
    "Any programmer would probably notice that their job description in one of its most primitive forms is to define f(x) in this instance. But they also know that this is often very complex, especially given the simplistic computer languages they must often work with to define f(x). It is error prone, difficult, and very time consuming to do this. This is especially true for large scale systems that do complex things."
   ],
   "metadata": {}
  },
  {
   "cell_type": "markdown",
   "source": [
    "Are there other ways of generating f(x) as a computation? \n",
    "\n",
    "Could we build more powerful, smaller, or more concise alternative models of computation by focusing on associative memory?\n",
    "\n",
    "This is the focus of my research.\n",
    "\n",
    "Being able to let a computer define its own associations would open up tons of possiblities for new ways of doing things.\n",
    "\n",
    "Just briefly, here are some things that I think could be accomplished:\n",
    "1. Generate programs that define alternative or secret protocols\n",
    "2. Store data as properties of the association so as to achieve compression\n",
    "3. Generate programs that generate other programs\n",
    "4. Intelligent chip design\n",
    "5. Etc."
   ],
   "metadata": {}
  }
 ],
 "metadata": {
  "orig_nbformat": 4,
  "language_info": {
   "name": "python",
   "version": "3.9.7",
   "mimetype": "text/x-python",
   "codemirror_mode": {
    "name": "ipython",
    "version": 3
   },
   "pygments_lexer": "ipython3",
   "nbconvert_exporter": "python",
   "file_extension": ".py"
  },
  "kernelspec": {
   "name": "python3",
   "display_name": "Python 3.9.7 64-bit"
  },
  "interpreter": {
   "hash": "aee8b7b246df8f9039afb4144a1f6fd8d2ca17a180786b69acc140d282b71a49"
  }
 },
 "nbformat": 4,
 "nbformat_minor": 2
}